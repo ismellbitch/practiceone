{
 "cells": [
  {
   "cell_type": "code",
   "id": "initial_id",
   "metadata": {
    "collapsed": true,
    "ExecuteTime": {
     "end_time": "2024-09-28T17:22:04.075055Z",
     "start_time": "2024-09-28T17:22:04.039922Z"
    }
   },
   "source": [
    "from random import random\n",
    "\n",
    "print(\"Задание 1\")\n",
    "students=[]*22\n",
    "fives=0\n",
    "for i in range(0,22):\n",
    "    students[i] = random.randint(2,5)\n",
    "    if students[i]==5:\n",
    "        fives += 1\n",
    "print(\"Колчиество пятёрок: \",fives)\n",
    "\n",
    "print(\"Задание 2\")\n",
    "def max_row_multiple_of_a(array, a):\n",
    "    max_row_index = -1\n",
    "    \n",
    "    for i in range(len(array)):\n",
    "        if all(element % a == 0 for element in array[i]):\n",
    "            max_row_index = i\n",
    "            \n",
    "    return max_row_index\n",
    "\n",
    "array = [\n",
    "    [2, 4, 6],\n",
    "    [3, 6, 9],\n",
    "    [10, 20, 30],\n",
    "    [1, 2, 3]\n",
    "]\n",
    "a = 2"
   ],
   "outputs": [
    {
     "name": "stdout",
     "output_type": "stream",
     "text": [
      "Задание 1\n"
     ]
    },
    {
     "ename": "AttributeError",
     "evalue": "'builtin_function_or_method' object has no attribute 'randint'",
     "output_type": "error",
     "traceback": [
      "\u001B[1;31m---------------------------------------------------------------------------\u001B[0m",
      "\u001B[1;31mAttributeError\u001B[0m                            Traceback (most recent call last)",
      "Cell \u001B[1;32mIn[7], line 7\u001B[0m\n\u001B[0;32m      5\u001B[0m fives\u001B[38;5;241m=\u001B[39m\u001B[38;5;241m0\u001B[39m\n\u001B[0;32m      6\u001B[0m \u001B[38;5;28;01mfor\u001B[39;00m i \u001B[38;5;129;01min\u001B[39;00m \u001B[38;5;28mrange\u001B[39m(\u001B[38;5;241m0\u001B[39m,\u001B[38;5;241m22\u001B[39m):\n\u001B[1;32m----> 7\u001B[0m     students[i] \u001B[38;5;241m=\u001B[39m random\u001B[38;5;241m.\u001B[39mrandint(\u001B[38;5;241m2\u001B[39m,\u001B[38;5;241m5\u001B[39m)\n\u001B[0;32m      8\u001B[0m     \u001B[38;5;28;01mif\u001B[39;00m students[i]\u001B[38;5;241m==\u001B[39m\u001B[38;5;241m5\u001B[39m:\n\u001B[0;32m      9\u001B[0m         fives \u001B[38;5;241m+\u001B[39m\u001B[38;5;241m=\u001B[39m \u001B[38;5;241m1\u001B[39m\n",
      "\u001B[1;31mAttributeError\u001B[0m: 'builtin_function_or_method' object has no attribute 'randint'"
     ]
    }
   ],
   "execution_count": 7
  },
  {
   "metadata": {},
   "cell_type": "code",
   "outputs": [],
   "execution_count": null,
   "source": "",
   "id": "a93321e0bf23f0de"
  }
 ],
 "metadata": {
  "kernelspec": {
   "display_name": "Python 3",
   "language": "python",
   "name": "python3"
  },
  "language_info": {
   "codemirror_mode": {
    "name": "ipython",
    "version": 2
   },
   "file_extension": ".py",
   "mimetype": "text/x-python",
   "name": "python",
   "nbconvert_exporter": "python",
   "pygments_lexer": "ipython2",
   "version": "2.7.6"
  }
 },
 "nbformat": 4,
 "nbformat_minor": 5
}
